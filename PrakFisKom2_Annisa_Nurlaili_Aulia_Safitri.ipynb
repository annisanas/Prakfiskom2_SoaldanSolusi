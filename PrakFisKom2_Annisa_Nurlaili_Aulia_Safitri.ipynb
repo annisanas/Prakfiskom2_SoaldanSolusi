{
  "nbformat": 4,
  "nbformat_minor": 0,
  "metadata": {
    "colab": {
      "provenance": []
    },
    "kernelspec": {
      "name": "python3",
      "display_name": "Python 3"
    },
    "language_info": {
      "name": "python"
    }
  },
  "cells": [
    {
      "cell_type": "markdown",
      "source": [
        "Pa Budi dan Sutris sedang melakukan percobaan Fisika di laboratorium. Pak Budi mengukur kuat arus yang melalui sebuah komponen elektronik dengan hambatan $25Ω$. Komponen tersebut diberi tegangan $5 volt$.\n",
        "\n",
        "Ternyata kuat arus listrik yang tertukar sama dengan kuat arus listrik yang melalui kawat berarus milik Sutris. Jika kawat berarus tersebut memiliki panjang $2 m$ dan berada dalam medan magnet $4 Tesla$, tentukan besar gaya Lorentz yang dihasilkan!\n",
        "\n",
        "\n",
        "Soal\n",
        "\n",
        "$I = \\frac {V} {R}$\n",
        "\n",
        "$I = \\frac {5} {25} = 0.2 A$\n",
        "\n",
        "$F = I \\times L \\times B$\n",
        "\n",
        "$F = 0.2 A \\times 2 m \\times 4 T = 1.6 N$\n"
      ],
      "metadata": {
        "id": "kmJCC5SccmR5"
      }
    },
    {
      "cell_type": "code",
      "source": [
        "# F = ILB\n",
        "\n",
        "R = 25\n",
        "V = 5\n",
        "L = 2\n",
        "B = 4\n",
        "\n",
        "I = V / R\n",
        "print(I, \"A\")\n",
        "\n",
        "F = I * L * B\n",
        "print(F, \"N\")\n"
      ],
      "metadata": {
        "colab": {
          "base_uri": "https://localhost:8080/"
        },
        "id": "3Vvx_ZdzlDAJ",
        "outputId": "d554e003-478c-4d1f-d8ea-a8dd6a440da4"
      },
      "execution_count": 1,
      "outputs": [
        {
          "output_type": "stream",
          "name": "stdout",
          "text": [
            "0.2 A\n",
            "1.6 N\n"
          ]
        }
      ]
    }
  ]
}